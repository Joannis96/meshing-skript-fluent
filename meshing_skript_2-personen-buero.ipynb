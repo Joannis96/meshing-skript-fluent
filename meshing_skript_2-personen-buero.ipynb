{
 "cells": [
  {
   "cell_type": "markdown",
   "metadata": {},
   "source": [
    "### Importing packages"
   ]
  },
  {
   "cell_type": "code",
   "execution_count": 51,
   "metadata": {},
   "outputs": [],
   "source": [
    "import ansys.fluent.core as pyfluent\n",
    "meshing_session = pyfluent.launch_fluent(precision='double', processor_count=4, mode='meshing', show_gui=True)\n",
    "workflow = meshing_session.workflow\n",
    "meshing = meshing_session.meshing"
   ]
  },
  {
   "cell_type": "markdown",
   "metadata": {},
   "source": [
    "### Input data\n",
    "insert File format (CAD or Mesh) and file path"
   ]
  },
  {
   "cell_type": "code",
   "execution_count": 52,
   "metadata": {},
   "outputs": [],
   "source": [
    "import_file_format = 'CAD' # ['CAD', 'Mesh']\n",
    "import_file_name = 'A:/MA_Joannis_Skempes/00_2-Personen-Buero/00_Geometrie/2-Personen-Buero_cut.scdoc' # ['<file path>']"
   ]
  },
  {
   "cell_type": "markdown",
   "metadata": {},
   "source": [
    "### Import geometry"
   ]
  },
  {
   "cell_type": "code",
   "execution_count": 53,
   "metadata": {},
   "outputs": [
    {
     "data": {
      "text/plain": [
       "True"
      ]
     },
     "execution_count": 53,
     "metadata": {},
     "output_type": "execute_result"
    }
   ],
   "source": [
    "# initializing workflow for meshing\n",
    "workflow.InitializeWorkflow(WorkflowType='Watertight Geometry')\n",
    "\n",
    "# data input depending on file format (CAD, Mesh)\n",
    "match import_file_format:\n",
    "    case 'CAD':\n",
    "        workflow.TaskObject['Import Geometry'].Arguments = {\n",
    "            'FileFormat': import_file_format,\n",
    "            'ImportType': 'Single File', # ['Single File', 'Multiple Files']\n",
    "            'LengthUnit': 'mm', # ['mm', 'm', 'cm', 'in', 'ft', 'um', 'nm'] \n",
    "            'UseBodyLabels': 'No', # ['No', 'Yes']\n",
    "            'FileName': import_file_name\n",
    "        }\n",
    "    case 'Mesh':\n",
    "        workflow.TaskObject['Import Geometry'].Arguments = {\n",
    "            'FileFormat': import_file_format,\n",
    "            'MeshUnit': 'm', # ['m', 'cm', 'mm', 'in', 'ft', 'um', 'nm'] \n",
    "            'LengthUnit': 'mm', # ['mm', 'm', 'cm', 'in', 'ft', 'um', 'nm'] \n",
    "            'MeshFileName': import_file_name             \n",
    "        }\n",
    "\n",
    "workflow.TaskObject['Import Geometry'].Execute()"
   ]
  },
  {
   "cell_type": "markdown",
   "metadata": {},
   "source": [
    "### Add local sizing"
   ]
  },
  {
   "cell_type": "code",
   "execution_count": 54,
   "metadata": {},
   "outputs": [
    {
     "data": {
      "text/plain": [
       "True"
      ]
     },
     "execution_count": 54,
     "metadata": {},
     "output_type": "execute_result"
    }
   ],
   "source": [
    "# Local Sizing: No\n",
    "workflow.TaskObject['Add Local Sizing'].Arguments = {\n",
    "    'AddChild': 'no' # ['no', 'yes']\n",
    "}\n",
    "\n",
    "workflow.TaskObject['Add Local Sizing'].Execute()"
   ]
  },
  {
   "cell_type": "markdown",
   "metadata": {},
   "source": [
    "### Generate the surface mesh"
   ]
  },
  {
   "cell_type": "code",
   "execution_count": 55,
   "metadata": {},
   "outputs": [
    {
     "data": {
      "text/plain": [
       "True"
      ]
     },
     "execution_count": 55,
     "metadata": {},
     "output_type": "execute_result"
    }
   ],
   "source": [
    "workflow.TaskObject['Generate the Surface Mesh'].Arguments = {\n",
    "    'CFDSurfaceMeshControls': {\n",
    "        'MinSize': 2, # float; \n",
    "        'MaxSize': 100, # float\n",
    "        'GrowthRate': 1.2, # float\n",
    "        'SizeFunctions': 'Curvature & Proximity', # ['Curvature & Proximity', 'Curvature', 'Proximity'] \n",
    "        'CellsPerGap': 5, # int\n",
    "        'CurvatureNormalAngle': 18, # float \n",
    "        'ScopeProximityTo': 'faces-and-edges', # ['faces-and-edges', 'faces', 'edges']\n",
    "        'DrawSizeControl': True, # bool -- Toggles Draw Boxes on Screen\n",
    "    },\n",
    "    #'ExecuteShareTopology': 'No', # ['No', 'Yes'] -- unkloar was der Befehl macht\n",
    "    'SurfaceMeshPreferences': {\n",
    "        'ShowSurfaceMeshPreferences': True, # bool -- toggles advanced options\n",
    "        'SMQualityImproveSkewnessLimit': 0.8, # float -- BEFEHL FEHLT NOCH\n",
    "        'SMQualityCollapseLimit': 0.8, # float\n",
    "        'SMQualityMaxAngle': 80, # float\n",
    "        # -- Weiteren Begriffe feholen noch...\n",
    "    }\n",
    "}\n",
    "\n",
    "workflow.TaskObject['Generate the Surface Mesh'].Execute()"
   ]
  },
  {
   "cell_type": "markdown",
   "metadata": {},
   "source": [
    "### Improve surface mesh"
   ]
  },
  {
   "cell_type": "code",
   "execution_count": 56,
   "metadata": {},
   "outputs": [
    {
     "data": {
      "text/plain": [
       "True"
      ]
     },
     "execution_count": 56,
     "metadata": {},
     "output_type": "execute_result"
    }
   ],
   "source": [
    "workflow.TaskObject['Generate the Surface Mesh'].InsertNextTask(CommandName=r'ImproveSurfaceMesh')\n",
    "\n",
    "workflow.TaskObject['Improve Surface Mesh'].Arguments = {\n",
    "    'FaceQualityLimit': 0.4, # float\n",
    "    'SMImprovePreferences': {\n",
    "        'ShowSMImprovePreferences': True, # bool -- toggles advanced options\n",
    "        'SIQualityMaxAngle': 160, # float\n",
    "        'SIQualityIterations': 5, # int\n",
    "        'SIQualityCollapseLimit': 0.6, # float\n",
    "        'SIRemoveStep': 'no', # ['no', 'yes']\n",
    "        # active if SIRemoveStep: 'yes -- Explanation: Are there small imperfections that can be removed?\n",
    "        'SIStepQualityLimit': 0, #float\n",
    "        'SIStepWidth': 0 #float\n",
    "    }\n",
    "}\n",
    "workflow.TaskObject['Improve Surface Mesh'].Execute()"
   ]
  },
  {
   "cell_type": "markdown",
   "metadata": {},
   "source": [
    "### Describe geometry"
   ]
  },
  {
   "cell_type": "code",
   "execution_count": 57,
   "metadata": {},
   "outputs": [
    {
     "name": "stdout",
     "output_type": "stream",
     "text": [
      "Geometry= fluids\n"
     ]
    },
    {
     "data": {
      "text/plain": [
       "True"
      ]
     },
     "execution_count": 57,
     "metadata": {},
     "output_type": "execute_result"
    }
   ],
   "source": [
    "input1 = 'fluids'\n",
    "print(\"Geometry= \" + input1)\n",
    "\n",
    "#vorher damit, Capping egal ist wenn fluids eingestellt werden...\n",
    "workflow.TaskObject['Describe Geometry'].Arguments = {\n",
    "    'CappingRequired': 'No', # ['No', 'Yes'] #nur Yes wenn SOLIDS/VOIDS vorhanden!!!\n",
    "    'WallToInternal': 'No', # ['No', 'Yes']\n",
    "    'InvokeShareTopology': 'No', # ['No', 'Yes']\n",
    "    'Multizone': 'No', # ['No', 'Yes']\n",
    "}\n",
    "\n",
    "match input1: #wenn es nicht matched: keine Änderung\n",
    "    case \"solids\":\n",
    "        workflow.TaskObject['Describe Geometry'].Arguments = {\n",
    "            'SetupType': 'The geometry consists of only solid regions'\n",
    "        }\n",
    "    case \"fluids\":\n",
    "        workflow.TaskObject['Describe Geometry'].Arguments = {\n",
    "            'SetupType': 'The geometry consists of only fluid regions with no voids'\n",
    "        }\n",
    "    case \"fluids-solids-voids\":\n",
    "        workflow.TaskObject['Describe Geometry'].Arguments = {\n",
    "            'SetupType': 'The geometry consists of both fluid and solid regions and/or voids'\n",
    "        }\n",
    "        \n",
    "workflow.TaskObject['Describe Geometry'].Execute()"
   ]
  },
  {
   "cell_type": "markdown",
   "metadata": {},
   "source": [
    "#### Updating boundarys"
   ]
  },
  {
   "cell_type": "code",
   "execution_count": 49,
   "metadata": {},
   "outputs": [
    {
     "name": "stdout",
     "output_type": "stream",
     "text": [
      "None\n",
      "Shutting down Server...\n"
     ]
    }
   ],
   "source": [
    "test = meshing_session.scheme_eval.scheme_eval('(tgapi-util-convert-zone-ids-to-name-strings (get-face-zones-of-filter \"*let*\"))')\n",
    "\n",
    "print(test)"
   ]
  },
  {
   "cell_type": "code",
   "execution_count": 80,
   "metadata": {},
   "outputs": [],
   "source": [
    "workflow.TaskObject['Update Boundaries'].Arguments = {\n",
    "    'SelectionType': 'label', #label, zone\n",
    "    #'ListAllBoundariesToggle': True, #kein Einfluss?\n",
    "    'OldBoundaryLabelList': ['int-anf', 'int-z-last-fenster', 'int-z-last-lampe1', 'int-z-last-lampe2', 'int-z-last-monitor1', 'int-z-last-monitor2', 'int-z-last-pers1', 'int-z-last-pers2', 'int-z-last-rechner1'], #Namenkonvention die rein kommt\n",
    "    'BoundaryLabelList': ['int-anf', 'int-z-last-fenster', 'int-z-last-lampe1', 'int-z-last-lampe2', 'int-z-last-monitor1', 'int-z-last-monitor2', 'int-z-last-pers1', 'int-z-last-pers2', 'int-z-last-rechner1'],\n",
    "    'BoundaryLabelTypeList': ['internal', 'internal', 'internal', 'internal', 'internal', 'internal', 'internal', 'internal', 'internal'], #Typ zuordnen\n",
    "    'OldBoundaryLabelList': ['po-tuer', 'vi-ab', 'vi-zu'], #Namenkonvention die rein kommt\n",
    "    'BoundaryLabelList': ['po-tuer', 'vi-ab', 'vi-zu'],\n",
    "    'BoundaryLabelTypeList': ['pressure-outlet', 'velocity-inlet', 'velocity-inlet'], #Typ zuordnen\n",
    "}\n",
    "\n",
    "#create-regions ist noch ausstehend...\n",
    "\n",
    "#workflow.TaskObject['Update Boundaries'].Execute()"
   ]
  },
  {
   "cell_type": "markdown",
   "metadata": {},
   "source": [
    "### Updating regions"
   ]
  },
  {
   "cell_type": "code",
   "execution_count": 134,
   "metadata": {},
   "outputs": [
    {
     "data": {
      "text/plain": [
       "True"
      ]
     },
     "execution_count": 134,
     "metadata": {},
     "output_type": "execute_result"
    }
   ],
   "source": [
    "workflow.TaskObject['Update Regions'].Arguments = {\n",
    "    'RegionNameList': ['fluid'],\n",
    "    'RegionTypeList': ['fluid'],\n",
    "}\n",
    "\n",
    "workflow.TaskObject['Update Regions'].Execute()"
   ]
  },
  {
   "cell_type": "markdown",
   "metadata": {},
   "source": [
    "### Add boundary layers"
   ]
  },
  {
   "cell_type": "code",
   "execution_count": 165,
   "metadata": {},
   "outputs": [
    {
     "data": {
      "text/plain": [
       "True"
      ]
     },
     "execution_count": 165,
     "metadata": {},
     "output_type": "execute_result"
    }
   ],
   "source": [
    "# Unklar, owzu notwendig\n",
    "#workflow.TaskObject['Add Boundary Layers'].Arguments.set_state({r'LocalPrismPreferences': {r'Continuous': r'Stair Step',},})\n",
    "\n",
    "workflow.TaskObject['Add Boundary Layers'].Arguments = {\n",
    "    'AddChild': 'yes', # ['yes', 'no', 'yes, using prism controlfile']\n",
    "    'BLControlName': 'smooth-transition_001',\n",
    "    'OffsetMethodType': 'smooth-transition', # ['smooth-transition', 'uniform', 'last-ratio', 'aspect-ratio']\n",
    "    'NumberOfLayers': 5, # int\n",
    "    'TransitionRatio': 0.272, # float\n",
    "    'Rate': 1.2, #float\n",
    "    'FirstAspectRatio': 5, # int; bei last-ratio\n",
    "    'FirstHeight': 0.04, # float\n",
    "    #'AddIn': 'fluid-regions', #Befehl noch unklar...\n",
    "    #'GrowOn': 'only-walls', #Befehl noch unklar...\n",
    "    'LocalPrismPreferences': {\n",
    "        'ShowLocalPrismPreferences': True,\n",
    "        'IgnoreBoundaryLayers': 'yes', # ['yes', 'no']\n",
    "        'AdditionalIgnoredLayers': 0, # int\n",
    "        'ModifyAtInvalidNormals': 'no', # ['no', 'yes']\n",
    "        'SphereRadiusFactorAtInvalidNormals': 0.9, # float\n",
    "        'AllowedTangencyAtInvalidNormals': 0.88, # float\n",
    "        'RemeshAtInvalidNormals': 'no',  # ['no', 'yes']                         \n",
    "    }\n",
    "    #Add-in: ????\n",
    "    #Grow-on: ????\n",
    "    #Advanced-options: ????\n",
    "}\n",
    "\n",
    "#Zum ausführen der boundary layers notwendig --> Hinzufügen Layer und updaten\n",
    "workflow.TaskObject['Add Boundary Layers'].AddChildAndUpdate()"
   ]
  },
  {
   "cell_type": "markdown",
   "metadata": {},
   "source": [
    "### Generate the volume mesh"
   ]
  },
  {
   "cell_type": "code",
   "execution_count": 76,
   "metadata": {},
   "outputs": [
    {
     "ename": "SyntaxError",
     "evalue": "unmatched '}' (3629118185.py, line 147)",
     "output_type": "error",
     "traceback": [
      "\u001b[1;36m  Cell \u001b[1;32mIn[76], line 147\u001b[1;36m\u001b[0m\n\u001b[1;33m    }\u001b[0m\n\u001b[1;37m    ^\u001b[0m\n\u001b[1;31mSyntaxError\u001b[0m\u001b[1;31m:\u001b[0m unmatched '}'\n"
     ]
    }
   ],
   "source": [
    "solver_type = 'Fluent' # ['Fluent', 'CFX']\n",
    "cell_type = 'polyhedra' # ['polyhedra', 'poly-hexcore', 'hexcore', 'tetrahedral']\n",
    "HexMinCellLength_var = [0.01, 0.02, 0.03, 0.04, 0.05]\n",
    "\n",
    "match solver_type:\n",
    "    case 'Fluent':\n",
    "        match cell_type:\n",
    "            case 'poly-hexcore':\n",
    "                workflow.TaskObject['Generate the Volume Mesh'].Arguments = {\n",
    "                    'Solver': solver_type,\n",
    "                    'VolumeFill': cell_type, # ['polyhedra', 'poly-hexcore', 'hexcore', 'tetrahedral']\n",
    "                    'VolumeFillControls': {\n",
    "                        'BufferLayers': 2, # int\n",
    "                        'PeelLayers': 1, # int\n",
    "                        'HexMinCellLength': HexMinCellLength_var[i], # float\n",
    "                        'HexMaxCellLength': 0.2, # float          \n",
    "                    },\n",
    "                    'ParallelMeshing': True, # bool\n",
    "                    # Advanced Options\n",
    "                    'VolumeMeshPreferences': {\n",
    "                        'ShowVolumeMeshPreferences': True, # bool\n",
    "                        'QualityMethod': 'Orthogonal', # ['Orthogonal', 'Enhanced Orthogonal', 'Skewness']\n",
    "                        'QualityWarningLimit': 0.05, # float\n",
    "                        'UseSizeField': 'no', # ['no', 'yes']\n",
    "                        'PolyFeatureAngle': 30, # float \n",
    "                        'Avoid1_8Transition': 'no', # ['no', 'yes']\n",
    "                        'CheckSelfProximity': 'no', # ['no', 'yes'] \n",
    "                        'WritePrismControlFile': 'no', # ['no', 'yes']\n",
    "                    },\n",
    "                    # Global Boundary Layer Settings\n",
    "                    'PrismPreferences': {\n",
    "                        'ShowPrismPreferences': True, # bool\n",
    "                        'MergeBoundaryLayers': 'yes', # ['yes', 'no']\n",
    "                        'PrismGapFactor': 0.25, # float\n",
    "                        'PrismMaxAspectRatio': 25, # int\n",
    "                        'PrismMinAspectRatio': 1, # float\n",
    "                        'PrismKeepFirstLayer': 'no', # ['no', 'yes']\n",
    "                        'PrismAdjacentAngle': 80.1, # float\n",
    "                        'PrismStairStepOptions': 'Yes' # ['Yes', 'No, Exclude proximity check', 'No, Exclude quality check', 'No, Exclude both checks'] \n",
    "                    }\n",
    "                }\n",
    "                    \n",
    "            case 'polyhedra':\n",
    "                workflow.TaskObject['Generate the Volume Mesh'].Arguments = {\n",
    "                    'Solver': solver_type,\n",
    "                    'VolumeFill': cell_type, # ['polyhedra', 'poly-hexcore', 'hexcore', 'tetrahedral']\n",
    "                    'VolumeFillControls': {\n",
    "                        'BufferLayers': 2, # int\n",
    "                        'PeelLayers': 1, # int\n",
    "                        'HexMinCellLength': HexMinCellLength_var[i], # float\n",
    "                        'HexMaxCellLength': 0.2, # float\n",
    "                    },\n",
    "                    'ParallelMeshing': True, # bool\n",
    "                    # Advanced Options\n",
    "                    'VolumeMeshPreferences': {\n",
    "                        'ShowVolumeMeshPreferences': True, # bool\n",
    "                        'QualityMethod': 'Orthogonal', # ['Orthogonal', 'Enhanced Orthogonal', 'Skewness']\n",
    "                        'QualityWarningLimit': 0.05, # float\n",
    "                        'UseSizeField': 'no', # ['no', 'yes']\n",
    "                        'PolyFeatureAngle': 30, # float \n",
    "                        'Avoid1_8Transition': 'no', # ['no', 'yes']\n",
    "                        'CheckSelfProximity': 'no', # ['no', 'yes'] \n",
    "                        'WritePrismControlFile': 'no', # ['no', 'yes']\n",
    "                    },\n",
    "                    # Global Boundary Layer Settings\n",
    "                    'PrismPreferences': {\n",
    "                        'ShowPrismPreferences': True, # bool\n",
    "                        'MergeBoundaryLayers': 'yes', # ['yes', 'no']\n",
    "                        'PrismGapFactor': 0.25, # float\n",
    "                        'PrismMaxAspectRatio': 25, # int\n",
    "                        'PrismMinAspectRatio': 1, # float\n",
    "                        'PrismKeepFirstLayer': 'no', # ['no', 'yes']\n",
    "                        'PrismAdjacentAngle': 80.1, # float\n",
    "                        'PrismStairStepOptions': 'Yes' # ['Yes', 'No, Exclude proximity check', 'No, Exclude quality check', 'No, Exclude both checks'] \n",
    "                    }\n",
    "                }\n",
    "                    \n",
    "            case 'hexcore':\n",
    "                workflow.TaskObject['Generate the Volume Mesh'].Arguments = {\n",
    "                    'Solver': solver_type,\n",
    "                    'VolumeFill': cell_type, # ['polyhedra', 'poly-hexcore', 'hexcore', 'tetrahedral']\n",
    "                    'VolumeFillControls': {\n",
    "                        'BufferLayers': 2, # int\n",
    "                        'PeelLayers': 1, # int\n",
    "                        'HexMinCellLength': HexMinCellLength_var[i], # float\n",
    "                        'HexMaxCellLength': 0.2, # float\n",
    "                    },\n",
    "                    'ParallelMeshing': True, # bool\n",
    "                    # Advanced Options\n",
    "                    'VolumeMeshPreferences': {\n",
    "                        'ShowVolumeMeshPreferences': True, # bool\n",
    "                        'QualityMethod': 'Orthogonal', # ['Orthogonal', 'Enhanced Orthogonal', 'Skewness']\n",
    "                        'QualityWarningLimit': 0.05, # float\n",
    "                        'UseSizeField': 'no', # ['no', 'yes']\n",
    "                        'PolyFeatureAngle': 30, # float \n",
    "                        'Avoid1_8Transition': 'no', # ['no', 'yes']\n",
    "                        'CheckSelfProximity': 'no', # ['no', 'yes'] \n",
    "                        'WritePrismControlFile': 'no', # ['no', 'yes']\n",
    "                    },\n",
    "                    # Global Boundary Layer Settings\n",
    "                    'PrismPreferences': {\n",
    "                        'ShowPrismPreferences': True, # bool\n",
    "                        'MergeBoundaryLayers': 'yes', # ['yes', 'no']\n",
    "                        'PrismGapFactor': 0.25, # float\n",
    "                        'PrismMaxAspectRatio': 25, # int\n",
    "                        'PrismMinAspectRatio': 1, # float\n",
    "                        'PrismKeepFirstLayer': 'no', # ['no', 'yes']\n",
    "                        'PrismAdjacentAngle': 80.1, # float\n",
    "                        'PrismStairStepOptions': 'Yes' # ['Yes', 'No, Exclude proximity check', 'No, Exclude quality check', 'No, Exclude both checks'] \n",
    "                    }\n",
    "                }\n",
    "\n",
    "            case 'tetrahedral':\n",
    "                workflow.TaskObject['Generate the Volume Mesh'].Arguments = {\n",
    "                    'Solver': solver_type,\n",
    "                    'VolumeFill': cell_type, # ['polyhedra', 'poly-hexcore', 'hexcore', 'tetrahedral']\n",
    "                    'VolumeFillControls': {\n",
    "                        'BufferLayers': 2, # int\n",
    "                        'PeelLayers': 1, # int\n",
    "                        'HexMinCellLength': HexMinCellLength_var[i], # float\n",
    "                        'HexMaxCellLength': 0.2, # float\n",
    "                    },\n",
    "                    'ParallelMeshing': True, # bool\n",
    "                    # Advanced Options\n",
    "                    'VolumeMeshPreferences': {\n",
    "                        'ShowVolumeMeshPreferences': True, # bool\n",
    "                        'QualityMethod': 'Orthogonal', # ['Orthogonal', 'Enhanced Orthogonal', 'Skewness']\n",
    "                        'QualityWarningLimit': 0.05, # float\n",
    "                        'UseSizeField': 'no', # ['no', 'yes']\n",
    "                        'PolyFeatureAngle': 30, # float \n",
    "                        'Avoid1_8Transition': 'no', # ['no', 'yes']\n",
    "                        'CheckSelfProximity': 'no', # ['no', 'yes'] \n",
    "                        'WritePrismControlFile': 'no', # ['no', 'yes']\n",
    "                    },\n",
    "                    # Global Boundary Layer Settings\n",
    "                    'PrismPreferences': {\n",
    "                        'ShowPrismPreferences': True, # bool\n",
    "                        'MergeBoundaryLayers': 'yes', # ['yes', 'no']\n",
    "                        'PrismGapFactor': 0.25, # float\n",
    "                        'PrismMaxAspectRatio': 25, # int\n",
    "                        'PrismMinAspectRatio': 1, # float\n",
    "                        'PrismKeepFirstLayer': 'no', # ['no', 'yes']\n",
    "                        'PrismAdjacentAngle': 80.1, # float\n",
    "                        'PrismStairStepOptions': 'Yes' # ['Yes', 'No, Exclude proximity check', 'No, Exclude quality check', 'No, Exclude both checks'] \n",
    "                    }\n",
    "                }\n",
    "}\n",
    "\n",
    "#workflow.TaskObject['Generate the Volume Mesh'].Execute()"
   ]
  },
  {
   "cell_type": "code",
   "execution_count": 206,
   "metadata": {},
   "outputs": [
    {
     "data": {
      "text/plain": [
       "True"
      ]
     },
     "execution_count": 206,
     "metadata": {},
     "output_type": "execute_result"
    }
   ],
   "source": [
    "solver1 = 'Fluent' #Fluent, CFX\n",
    "#Bei CFX nur hexcore und tetrahedral zur Auswahl\n",
    "\n",
    "workflow.TaskObject['Generate the Volume Mesh'].Arguments = {\n",
    "    'Solver': solver1,\n",
    "    'VolumeFill': 'hexcore', #polyhedra #poly-hexcore #hexcore #tetrahedral\n",
    "    'VolumeFillControls': {\n",
    "        'GrowthRate': 1.2, #float\n",
    "        'TetPolyMaxCellLength': 0.26, #float\n",
    "        'BufferLayers': 2, #int\n",
    "        'PeelLayers': 1, #int\n",
    "        'HexMinCellLength': 0.02, #float; bei hexcore\n",
    "        'HexMaxCellLength': 0.16, #float\n",
    "    },\n",
    "    'VolumeMeshPreferences': {\n",
    "        'ShowVolumeMeshPreferences': True,\n",
    "        'QualityMethod': 'Orthogonal',\n",
    "        'QualityWarningLimit': 0.05,\n",
    "        'UseSizeField': 'no', #yes, no\n",
    "        'PolyFeatureAngle': 30, #yes, no\n",
    "        'Avoid1_8Transition': 'no', #yes, no\n",
    "        'CheckSelfProximity': 'no', #yes, no\n",
    "        'WritePrismControlFile': 'no', #yes, no\n",
    "        #'PolyInSolids': 'no', #yes, no\n",
    "        #'SolidGrowthRate': 1.5, #aktiv, wenn PolyInSolids 'yes'\n",
    "        #'MergeBodyLabels': 'no', #unklar was Befehl macht\n",
    "        #'PrepareZoneNames': 'no', #unklar was Befehl macht\n",
    "        },\n",
    "    'ParallelMeshing': True,\n",
    "    #AdcancedOptions (für alle gleich)\n",
    "    'PrismPreferences': {\n",
    "        'ShowPrismPreferences': True, #bool\n",
    "        'MergeBoundaryLayers': 'yes', #yes, no\n",
    "        'PrismGapFactor': 0.25, #float\n",
    "        'PrismMaxAspectRatio': 25, #int\n",
    "        'PrismMinAspectRatio': 1, #int\n",
    "        'PrismKeepFirstLayer': 'no', #yes, no\n",
    "        'PrismAdjacentAngle': 80, #deg\n",
    "        'PrismStairStepOptions': 'Yes', #Yes #No, Exclude proximity check #No, Exclude quality check #No, Exclude both checks\n",
    "        #'IgnoreInflation': 'no', #unklar was Befehl macht\n",
    "    }\n",
    "}\n",
    "\n",
    "#workflow.TaskObject['Generate the Volume Mesh'].Execute()"
   ]
  },
  {
   "cell_type": "markdown",
   "metadata": {},
   "source": [
    "### Exiting solver"
   ]
  },
  {
   "cell_type": "code",
   "execution_count": null,
   "metadata": {},
   "outputs": [],
   "source": [
    "#solver.exit()"
   ]
  }
 ],
 "metadata": {
  "kernelspec": {
   "display_name": "Python 3 (ipykernel)",
   "language": "python",
   "name": "python3"
  },
  "language_info": {
   "codemirror_mode": {
    "name": "ipython",
    "version": 3
   },
   "file_extension": ".py",
   "mimetype": "text/x-python",
   "name": "python",
   "nbconvert_exporter": "python",
   "pygments_lexer": "ipython3",
   "version": "3.11.6"
  }
 },
 "nbformat": 4,
 "nbformat_minor": 4
}
